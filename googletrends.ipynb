{
 "cells": [
  {
   "cell_type": "code",
   "execution_count": 1,
   "metadata": {
    "collapsed": true
   },
   "outputs": [],
   "source": [
    "#!pip install pytrends\n",
    "from pytrends.request import TrendReq\n",
    "import matplotlib.pyplot as plt\n",
    "from matplotlib import rcParams\n",
    "import pandas as pd"
   ]
  },
  {
   "cell_type": "code",
   "execution_count": 37,
   "outputs": [],
   "source": [
    "def retrieve_data(lista: list, mode):\n",
    "    pytrends = TrendReq()\n",
    "    if mode == 'overall':\n",
    "        pytrends.build_payload(kw_list=lista, timeframe='2021-01-01 2023-02-21', geo='IT')\n",
    "        dataframe = pytrends.interest_over_time().iloc[:,:-1]\n",
    "\n",
    "    elif mode == 'individual':\n",
    "        dataframe = pd.DataFrame()\n",
    "        for i in lista:\n",
    "            pytrends.build_payload(kw_list=[i], timeframe='2021-01-01 2023-02-21', geo='IT')\n",
    "            dataframe = pd.concat([dataframe, pytrends.interest_over_time().iloc[:,:-1]], axis = 1)\n",
    "\n",
    "    dataframe.reset_index(inplace = True)\n",
    "    dataframe['date'] = pd.to_datetime(dataframe['date'])\n",
    "    dataframe.set_index('date', inplace = True)\n",
    "    return dataframe\n",
    "\n",
    "topic = ['putin', 'zelensky']\n",
    "\n",
    "data_individual = retrieve_data(topic, 'individual')\n",
    "data_overall = retrieve_data(topic, 'overall')"
   ],
   "metadata": {
    "collapsed": false,
    "pycharm": {
     "name": "#%%\n"
    }
   }
  }
 ],
 "metadata": {
  "kernelspec": {
   "display_name": "Python 3",
   "language": "python",
   "name": "python3"
  },
  "language_info": {
   "codemirror_mode": {
    "name": "ipython",
    "version": 2
   },
   "file_extension": ".py",
   "mimetype": "text/x-python",
   "name": "python",
   "nbconvert_exporter": "python",
   "pygments_lexer": "ipython2",
   "version": "2.7.6"
  }
 },
 "nbformat": 4,
 "nbformat_minor": 0
}